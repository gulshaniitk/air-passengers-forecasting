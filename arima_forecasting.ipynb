{
  "nbformat": 4,
  "nbformat_minor": 0,
  "metadata": {
    "colab": {
      "name": "forecasting.ipynb",
      "provenance": [],
      "collapsed_sections": [],
      "include_colab_link": true
    },
    "kernelspec": {
      "name": "python3",
      "display_name": "Python 3"
    },
    "language_info": {
      "name": "python"
    }
  },
  "cells": [
    {
      "cell_type": "markdown",
      "metadata": {
        "id": "view-in-github",
        "colab_type": "text"
      },
      "source": [
        "<a href=\"https://colab.research.google.com/github/gulshaniitk/air-passengers-forecasting/blob/main/arima_forecasting.ipynb\" target=\"_parent\"><img src=\"https://colab.research.google.com/assets/colab-badge.svg\" alt=\"Open In Colab\"/></a>"
      ]
    },
    {
      "cell_type": "code",
      "execution_count": null,
      "metadata": {
        "id": "qi6hGmSh5_d-",
        "colab": {
          "base_uri": "https://localhost:8080/"
        },
        "outputId": "a626b2a8-3fad-4e2e-e2cb-2d54fa3f8386"
      },
      "outputs": [
        {
          "output_type": "stream",
          "name": "stderr",
          "text": [
            "/usr/local/lib/python3.7/dist-packages/statsmodels/tools/_testing.py:19: FutureWarning: pandas.util.testing is deprecated. Use the functions in the public API at pandas.testing instead.\n",
            "  import pandas.util.testing as tm\n"
          ]
        }
      ],
      "source": [
        "import pandas as pd\n",
        "import numpy as np\n",
        "from scipy import stats\n",
        "from matplotlib import pyplot as plt\n",
        "import seaborn as sns\n",
        "%matplotlib inline\n",
        "import statsmodels.api as sm"
      ]
    },
    {
      "cell_type": "code",
      "source": [
        "# data=pd.read_csv('/content/drive/MyDrive/forecasting/AirPassengers.csv',index_col='Month',parse_dates=True,dtype='float')\n",
        "# data.head()"
      ],
      "metadata": {
        "id": "EziwAZjH7a9x"
      },
      "execution_count": null,
      "outputs": []
    },
    {
      "cell_type": "code",
      "source": [
        "from google.colab import drive\n",
        "drive.mount('/content/drive')"
      ],
      "metadata": {
        "colab": {
          "base_uri": "https://localhost:8080/"
        },
        "id": "zcr1r-VWNCcD",
        "outputId": "7d9cd391-ba19-465c-ecdc-540048a623b7"
      },
      "execution_count": null,
      "outputs": [
        {
          "output_type": "stream",
          "name": "stdout",
          "text": [
            "Mounted at /content/drive\n"
          ]
        }
      ]
    },
    {
      "cell_type": "code",
      "source": [
        "data=pd.read_csv('/content/drive/MyDrive/forecasting/AirPassengers.csv')\n",
        "print(data.head())\n",
        "data.info()\n",
        "data['Month']=pd.to_datetime(data['Month'],infer_datetime_format=True)\n",
        "data=data.set_index(['Month'])\n",
        "print(data.info())\n",
        "data.head()"
      ],
      "metadata": {
        "colab": {
          "base_uri": "https://localhost:8080/",
          "height": 654
        },
        "id": "A0fedKITKPWF",
        "outputId": "f10a2b97-54df-49fa-ba62-a90e29fd0e8d"
      },
      "execution_count": null,
      "outputs": [
        {
          "output_type": "stream",
          "name": "stdout",
          "text": [
            "     Month  #Passengers\n",
            "0  1949-01          112\n",
            "1  1949-02          118\n",
            "2  1949-03          132\n",
            "3  1949-04          129\n",
            "4  1949-05          121\n",
            "<class 'pandas.core.frame.DataFrame'>\n",
            "RangeIndex: 144 entries, 0 to 143\n",
            "Data columns (total 2 columns):\n",
            " #   Column       Non-Null Count  Dtype \n",
            "---  ------       --------------  ----- \n",
            " 0   Month        144 non-null    object\n",
            " 1   #Passengers  144 non-null    int64 \n",
            "dtypes: int64(1), object(1)\n",
            "memory usage: 2.4+ KB\n",
            "<class 'pandas.core.frame.DataFrame'>\n",
            "DatetimeIndex: 144 entries, 1949-01-01 to 1960-12-01\n",
            "Data columns (total 1 columns):\n",
            " #   Column       Non-Null Count  Dtype\n",
            "---  ------       --------------  -----\n",
            " 0   #Passengers  144 non-null    int64\n",
            "dtypes: int64(1)\n",
            "memory usage: 2.2 KB\n",
            "None\n"
          ]
        },
        {
          "output_type": "execute_result",
          "data": {
            "text/plain": [
              "            #Passengers\n",
              "Month                  \n",
              "1949-01-01          112\n",
              "1949-02-01          118\n",
              "1949-03-01          132\n",
              "1949-04-01          129\n",
              "1949-05-01          121"
            ],
            "text/html": [
              "\n",
              "  <div id=\"df-c44ce39f-a777-4710-96fa-f695453bc109\">\n",
              "    <div class=\"colab-df-container\">\n",
              "      <div>\n",
              "<style scoped>\n",
              "    .dataframe tbody tr th:only-of-type {\n",
              "        vertical-align: middle;\n",
              "    }\n",
              "\n",
              "    .dataframe tbody tr th {\n",
              "        vertical-align: top;\n",
              "    }\n",
              "\n",
              "    .dataframe thead th {\n",
              "        text-align: right;\n",
              "    }\n",
              "</style>\n",
              "<table border=\"1\" class=\"dataframe\">\n",
              "  <thead>\n",
              "    <tr style=\"text-align: right;\">\n",
              "      <th></th>\n",
              "      <th>#Passengers</th>\n",
              "    </tr>\n",
              "    <tr>\n",
              "      <th>Month</th>\n",
              "      <th></th>\n",
              "    </tr>\n",
              "  </thead>\n",
              "  <tbody>\n",
              "    <tr>\n",
              "      <th>1949-01-01</th>\n",
              "      <td>112</td>\n",
              "    </tr>\n",
              "    <tr>\n",
              "      <th>1949-02-01</th>\n",
              "      <td>118</td>\n",
              "    </tr>\n",
              "    <tr>\n",
              "      <th>1949-03-01</th>\n",
              "      <td>132</td>\n",
              "    </tr>\n",
              "    <tr>\n",
              "      <th>1949-04-01</th>\n",
              "      <td>129</td>\n",
              "    </tr>\n",
              "    <tr>\n",
              "      <th>1949-05-01</th>\n",
              "      <td>121</td>\n",
              "    </tr>\n",
              "  </tbody>\n",
              "</table>\n",
              "</div>\n",
              "      <button class=\"colab-df-convert\" onclick=\"convertToInteractive('df-c44ce39f-a777-4710-96fa-f695453bc109')\"\n",
              "              title=\"Convert this dataframe to an interactive table.\"\n",
              "              style=\"display:none;\">\n",
              "        \n",
              "  <svg xmlns=\"http://www.w3.org/2000/svg\" height=\"24px\"viewBox=\"0 0 24 24\"\n",
              "       width=\"24px\">\n",
              "    <path d=\"M0 0h24v24H0V0z\" fill=\"none\"/>\n",
              "    <path d=\"M18.56 5.44l.94 2.06.94-2.06 2.06-.94-2.06-.94-.94-2.06-.94 2.06-2.06.94zm-11 1L8.5 8.5l.94-2.06 2.06-.94-2.06-.94L8.5 2.5l-.94 2.06-2.06.94zm10 10l.94 2.06.94-2.06 2.06-.94-2.06-.94-.94-2.06-.94 2.06-2.06.94z\"/><path d=\"M17.41 7.96l-1.37-1.37c-.4-.4-.92-.59-1.43-.59-.52 0-1.04.2-1.43.59L10.3 9.45l-7.72 7.72c-.78.78-.78 2.05 0 2.83L4 21.41c.39.39.9.59 1.41.59.51 0 1.02-.2 1.41-.59l7.78-7.78 2.81-2.81c.8-.78.8-2.07 0-2.86zM5.41 20L4 18.59l7.72-7.72 1.47 1.35L5.41 20z\"/>\n",
              "  </svg>\n",
              "      </button>\n",
              "      \n",
              "  <style>\n",
              "    .colab-df-container {\n",
              "      display:flex;\n",
              "      flex-wrap:wrap;\n",
              "      gap: 12px;\n",
              "    }\n",
              "\n",
              "    .colab-df-convert {\n",
              "      background-color: #E8F0FE;\n",
              "      border: none;\n",
              "      border-radius: 50%;\n",
              "      cursor: pointer;\n",
              "      display: none;\n",
              "      fill: #1967D2;\n",
              "      height: 32px;\n",
              "      padding: 0 0 0 0;\n",
              "      width: 32px;\n",
              "    }\n",
              "\n",
              "    .colab-df-convert:hover {\n",
              "      background-color: #E2EBFA;\n",
              "      box-shadow: 0px 1px 2px rgba(60, 64, 67, 0.3), 0px 1px 3px 1px rgba(60, 64, 67, 0.15);\n",
              "      fill: #174EA6;\n",
              "    }\n",
              "\n",
              "    [theme=dark] .colab-df-convert {\n",
              "      background-color: #3B4455;\n",
              "      fill: #D2E3FC;\n",
              "    }\n",
              "\n",
              "    [theme=dark] .colab-df-convert:hover {\n",
              "      background-color: #434B5C;\n",
              "      box-shadow: 0px 1px 3px 1px rgba(0, 0, 0, 0.15);\n",
              "      filter: drop-shadow(0px 1px 2px rgba(0, 0, 0, 0.3));\n",
              "      fill: #FFFFFF;\n",
              "    }\n",
              "  </style>\n",
              "\n",
              "      <script>\n",
              "        const buttonEl =\n",
              "          document.querySelector('#df-c44ce39f-a777-4710-96fa-f695453bc109 button.colab-df-convert');\n",
              "        buttonEl.style.display =\n",
              "          google.colab.kernel.accessAllowed ? 'block' : 'none';\n",
              "\n",
              "        async function convertToInteractive(key) {\n",
              "          const element = document.querySelector('#df-c44ce39f-a777-4710-96fa-f695453bc109');\n",
              "          const dataTable =\n",
              "            await google.colab.kernel.invokeFunction('convertToInteractive',\n",
              "                                                     [key], {});\n",
              "          if (!dataTable) return;\n",
              "\n",
              "          const docLinkHtml = 'Like what you see? Visit the ' +\n",
              "            '<a target=\"_blank\" href=https://colab.research.google.com/notebooks/data_table.ipynb>data table notebook</a>'\n",
              "            + ' to learn more about interactive tables.';\n",
              "          element.innerHTML = '';\n",
              "          dataTable['output_type'] = 'display_data';\n",
              "          await google.colab.output.renderOutput(dataTable, element);\n",
              "          const docLink = document.createElement('div');\n",
              "          docLink.innerHTML = docLinkHtml;\n",
              "          element.appendChild(docLink);\n",
              "        }\n",
              "      </script>\n",
              "    </div>\n",
              "  </div>\n",
              "  "
            ]
          },
          "metadata": {},
          "execution_count": 4
        }
      ]
    },
    {
      "cell_type": "code",
      "source": [
        "ts=data['#Passengers']\n",
        "ts.head()"
      ],
      "metadata": {
        "colab": {
          "base_uri": "https://localhost:8080/"
        },
        "id": "taQ7UwDj8nKq",
        "outputId": "aa4cf32d-ef53-4374-ef7c-962c9371e1bf"
      },
      "execution_count": null,
      "outputs": [
        {
          "output_type": "execute_result",
          "data": {
            "text/plain": [
              "Month\n",
              "1949-01-01    112\n",
              "1949-02-01    118\n",
              "1949-03-01    132\n",
              "1949-04-01    129\n",
              "1949-05-01    121\n",
              "Name: #Passengers, dtype: int64"
            ]
          },
          "metadata": {},
          "execution_count": 5
        }
      ]
    },
    {
      "cell_type": "code",
      "source": [
        "print(ts['1949'],'\\n')\n",
        "\n",
        "print(ts['1949-01-01'],'\\n')\n",
        "\n",
        "from datetime import datetime\n",
        "ts[datetime(1950,1,1)]"
      ],
      "metadata": {
        "colab": {
          "base_uri": "https://localhost:8080/"
        },
        "id": "qqdN6zEu_5vS",
        "outputId": "5d2d15a0-42f9-4d6b-ee30-2df0a563b0da"
      },
      "execution_count": null,
      "outputs": [
        {
          "output_type": "stream",
          "name": "stdout",
          "text": [
            "Month\n",
            "1949-01-01    112\n",
            "1949-02-01    118\n",
            "1949-03-01    132\n",
            "1949-04-01    129\n",
            "1949-05-01    121\n",
            "1949-06-01    135\n",
            "1949-07-01    148\n",
            "1949-08-01    148\n",
            "1949-09-01    136\n",
            "1949-10-01    119\n",
            "1949-11-01    104\n",
            "1949-12-01    118\n",
            "Name: #Passengers, dtype: int64 \n",
            "\n",
            "112 \n",
            "\n"
          ]
        },
        {
          "output_type": "execute_result",
          "data": {
            "text/plain": [
              "115"
            ]
          },
          "metadata": {},
          "execution_count": 6
        }
      ]
    },
    {
      "cell_type": "code",
      "source": [
        "ts.shift().head()"
      ],
      "metadata": {
        "colab": {
          "base_uri": "https://localhost:8080/"
        },
        "id": "bcZBpJe4A7tz",
        "outputId": "733ef54a-812d-4bd4-f7a3-013d01dc4f36"
      },
      "execution_count": null,
      "outputs": [
        {
          "output_type": "execute_result",
          "data": {
            "text/plain": [
              "Month\n",
              "1949-01-01      NaN\n",
              "1949-02-01    112.0\n",
              "1949-03-01    118.0\n",
              "1949-04-01    132.0\n",
              "1949-05-01    129.0\n",
              "Name: #Passengers, dtype: float64"
            ]
          },
          "metadata": {},
          "execution_count": 7
        }
      ]
    },
    {
      "cell_type": "code",
      "source": [
        "diff=ts-ts.shift()\n",
        "diff.head()"
      ],
      "metadata": {
        "colab": {
          "base_uri": "https://localhost:8080/"
        },
        "id": "4Wdrq93gDEkq",
        "outputId": "32b4cc91-d083-4bfe-eb2c-d7fa0b964031"
      },
      "execution_count": null,
      "outputs": [
        {
          "output_type": "execute_result",
          "data": {
            "text/plain": [
              "Month\n",
              "1949-01-01     NaN\n",
              "1949-02-01     6.0\n",
              "1949-03-01    14.0\n",
              "1949-04-01    -3.0\n",
              "1949-05-01    -8.0\n",
              "Name: #Passengers, dtype: float64"
            ]
          },
          "metadata": {},
          "execution_count": 8
        }
      ]
    },
    {
      "cell_type": "code",
      "source": [
        "logdiff=np.log(ts)-np.log(ts.shift())\n",
        "print(logdiff.head())\n",
        "\n",
        "logdiff.dropna(inplace=True)\n",
        "logdiff.head()\n"
      ],
      "metadata": {
        "colab": {
          "base_uri": "https://localhost:8080/"
        },
        "id": "L_biGm3oDLeB",
        "outputId": "3988a9e7-38d7-4eb8-d462-a7318185d9c9"
      },
      "execution_count": null,
      "outputs": [
        {
          "output_type": "stream",
          "name": "stdout",
          "text": [
            "Month\n",
            "1949-01-01         NaN\n",
            "1949-02-01    0.052186\n",
            "1949-03-01    0.112117\n",
            "1949-04-01   -0.022990\n",
            "1949-05-01   -0.064022\n",
            "Name: #Passengers, dtype: float64\n"
          ]
        },
        {
          "output_type": "execute_result",
          "data": {
            "text/plain": [
              "Month\n",
              "1949-02-01    0.052186\n",
              "1949-03-01    0.112117\n",
              "1949-04-01   -0.022990\n",
              "1949-05-01   -0.064022\n",
              "1949-06-01    0.109484\n",
              "Name: #Passengers, dtype: float64"
            ]
          },
          "metadata": {},
          "execution_count": 9
        }
      ]
    },
    {
      "cell_type": "code",
      "source": [
        "plt.xlabel('Date')\n",
        "plt.ylabel('No of passengers')\n",
        "plt.plot(ts)"
      ],
      "metadata": {
        "colab": {
          "base_uri": "https://localhost:8080/",
          "height": 296
        },
        "id": "rV0lz24a_WR9",
        "outputId": "dca85573-3329-402b-a607-ed1b299619e6"
      },
      "execution_count": null,
      "outputs": [
        {
          "output_type": "execute_result",
          "data": {
            "text/plain": [
              "[<matplotlib.lines.Line2D at 0x7f409853a5d0>]"
            ]
          },
          "metadata": {},
          "execution_count": 10
        },
        {
          "output_type": "display_data",
          "data": {
            "text/plain": [
              "<Figure size 432x288 with 1 Axes>"
            ],
            "image/png": "[encoded data removed]"
          },
          "metadata": {
            "needs_background": "light"
          }
        }
      ]
    },
    {
      "cell_type": "code",
      "source": [
        "# rollmean=data.rolling(window=12).mean()\n",
        "# rollstd=data.rolling(window=12).std()\n",
        "# orig=plt.plot(data,label='Original')\n",
        "# mean=plt.plot(rollmean,label='mean')\n",
        "# std=plt.plot(rollstd,label='std')\n",
        "# plt.legend(loc='best')\n",
        "# plt.show()"
      ],
      "metadata": {
        "id": "WYpgchhFM0pN"
      },
      "execution_count": null,
      "outputs": []
    },
    {
      "cell_type": "code",
      "source": [
        "def plot_graph(df):\n",
        "      rollmean=df.rolling(window=12).mean()\n",
        "      rollstd=df.rolling(window=12).std()\n",
        "      orig=plt.plot(df,label='Original')\n",
        "      mean=plt.plot(rollmean,label='mean')\n",
        "      std=plt.plot(rollstd,label='std')\n",
        "      plt.legend(loc='best')\n",
        "      plt.show()"
      ],
      "metadata": {
        "id": "O0_bOScDTCtd"
      },
      "execution_count": null,
      "outputs": []
    },
    {
      "cell_type": "code",
      "source": [
        "plot_graph(data)"
      ],
      "metadata": {
        "colab": {
          "base_uri": "https://localhost:8080/",
          "height": 265
        },
        "id": "0OlVrNzyTV78",
        "outputId": "00961af8-b8a7-4617-e2c4-47fd2d1515b6"
      },
      "execution_count": null,
      "outputs": [
        {
          "output_type": "display_data",
          "data": {
            "text/plain": [
              "<Figure size 432x288 with 1 Axes>"
            ],
            "image/png": "[encoded data removed]"
          },
          "metadata": {
            "needs_background": "light"
          }
        }
      ]
    },
    {
      "cell_type": "code",
      "source": [
        "from statsmodels.tsa.stattools import adfuller\n",
        "\n",
        "#p-value > 0.05: Fail to reject the null hypothesis (H0), the data has a unit root and is non-stationary.\n",
        "#p-value <= 0.05: Reject the null hypothesis (H0), the data does not have a unit root and is stationary."
      ],
      "metadata": {
        "id": "vPakng9VRJ2_"
      },
      "execution_count": null,
      "outputs": []
    },
    {
      "cell_type": "code",
      "source": [
        "result = adfuller(data['#Passengers'])\n",
        "print('ADF Statistic: %f' % result[0])\n",
        "print('p-value: %f' % result[1])\n",
        "print('Critical Values:')\n",
        "for key, value in result[4].items():\n",
        "\tprint('\\t%s: %.3f' % (key, value))"
      ],
      "metadata": {
        "colab": {
          "base_uri": "https://localhost:8080/"
        },
        "id": "cvOkJumvUXnG",
        "outputId": "440b7536-c6a7-4a8f-83a3-93fc7583a5c8"
      },
      "execution_count": null,
      "outputs": [
        {
          "output_type": "stream",
          "name": "stdout",
          "text": [
            "ADF Statistic: 0.815369\n",
            "p-value: 0.991880\n",
            "Critical Values:\n",
            "\t1%: -3.482\n",
            "\t5%: -2.884\n",
            "\t10%: -2.579\n"
          ]
        }
      ]
    },
    {
      "cell_type": "code",
      "source": [
        "#Let’s log transform the dataset again to make the distribution of values more linear and better meet the expectations of this statistical test.\n",
        "plot_graph(np.log(data))\n",
        "result = adfuller(np.log(ts.values))\n",
        "print('ADF Statistic: %f' % result[0])\n",
        "print('p-value: %f' % result[1])\n",
        "print('Critical Values:')\n",
        "for key, value in result[4].items():\n",
        "\tprint('\\t%s: %.3f' % (key, value))"
      ],
      "metadata": {
        "colab": {
          "base_uri": "https://localhost:8080/",
          "height": 369
        },
        "id": "M3r9CApQXsJW",
        "outputId": "dea37ff8-47c1-49b1-cda9-86bafd086860"
      },
      "execution_count": null,
      "outputs": [
        {
          "output_type": "display_data",
          "data": {
            "text/plain": [
              "<Figure size 432x288 with 1 Axes>"
            ],
            "image/png": "[encoded data removed]"
          },
          "metadata": {
            "needs_background": "light"
          }
        },
        {
          "output_type": "stream",
          "name": "stdout",
          "text": [
            "ADF Statistic: -1.717017\n",
            "p-value: 0.422367\n",
            "Critical Values:\n",
            "\t1%: -3.482\n",
            "\t5%: -2.884\n",
            "\t10%: -2.579\n"
          ]
        }
      ]
    },
    {
      "cell_type": "code",
      "source": [
        "data_log=np.log(data)\n",
        "data_log_ma=data_log-data_log.rolling(window=3).mean()\n",
        "\n",
        "data_log_ma.dropna(inplace=True)\n",
        "plot_graph(data_log_ma)\n",
        "result = adfuller(data_log_ma['#Passengers'])\n",
        "print('ADF Statistic: %f' % result[0])\n",
        "print('p-value: %f' % result[1])\n",
        "print('Critical Values:')\n",
        "for key, value in result[4].items():\n",
        "\tprint('\\t%s: %.3f' % (key, value))"
      ],
      "metadata": {
        "colab": {
          "base_uri": "https://localhost:8080/",
          "height": 369
        },
        "id": "X-yVU-1LW0bK",
        "outputId": "9c998a06-fc4a-4a16-c058-da523b38ec57"
      },
      "execution_count": null,
      "outputs": [
        {
          "output_type": "display_data",
          "data": {
            "text/plain": [
              "<Figure size 432x288 with 1 Axes>"
            ],
            "image/png": "[encoded data removed]"
          },
          "metadata": {
            "needs_background": "light"
          }
        },
        {
          "output_type": "stream",
          "name": "stdout",
          "text": [
            "ADF Statistic: -3.040034\n",
            "p-value: 0.031321\n",
            "Critical Values:\n",
            "\t1%: -3.482\n",
            "\t5%: -2.884\n",
            "\t10%: -2.579\n"
          ]
        }
      ]
    },
    {
      "cell_type": "code",
      "source": [
        "data_log_diff=data_log.diff(periods=2)\n",
        "data_log_diff.dropna(inplace=True)\n",
        "plot_graph(data_log_diff)\n",
        "result = adfuller(data_log_diff['#Passengers'])\n",
        "print('ADF Statistic: %f' % result[0])\n",
        "print('p-value: %f' % result[1])\n",
        "print('Critical Values:')\n",
        "for key, value in result[4].items():\n",
        "\tprint('\\t%s: %.3f' % (key, value))"
      ],
      "metadata": {
        "colab": {
          "base_uri": "https://localhost:8080/",
          "height": 369
        },
        "id": "ob0jaz1zZDy2",
        "outputId": "4e3dbc87-642c-49bc-8bfa-77659abaa96a"
      },
      "execution_count": null,
      "outputs": [
        {
          "output_type": "display_data",
          "data": {
            "text/plain": [
              "<Figure size 432x288 with 1 Axes>"
            ],
            "image/png": "[encoded data removed]"
          },
          "metadata": {
            "needs_background": "light"
          }
        },
        {
          "output_type": "stream",
          "name": "stdout",
          "text": [
            "ADF Statistic: -3.167907\n",
            "p-value: 0.021919\n",
            "Critical Values:\n",
            "\t1%: -3.482\n",
            "\t5%: -2.884\n",
            "\t10%: -2.579\n"
          ]
        }
      ]
    },
    {
      "cell_type": "code",
      "source": [
        "df=data.diff(periods=2)\n",
        "df=df.dropna()\n",
        "result = adfuller(df['#Passengers'])\n",
        "print('ADF Statistic: %f' % result[0])\n",
        "print('p-value: %f' % result[1])\n",
        "print('Critical Values:')\n",
        "for key, value in result[4].items():\n",
        "\tprint('\\t%s: %.3f' % (key, value))"
      ],
      "metadata": {
        "colab": {
          "base_uri": "https://localhost:8080/"
        },
        "id": "DKEjxF__97AV",
        "outputId": "1ac9431f-5762-4484-addb-75cba76c51d6"
      },
      "execution_count": null,
      "outputs": [
        {
          "output_type": "stream",
          "name": "stdout",
          "text": [
            "ADF Statistic: -2.961695\n",
            "p-value: 0.038630\n",
            "Critical Values:\n",
            "\t1%: -3.482\n",
            "\t5%: -2.884\n",
            "\t10%: -2.579\n"
          ]
        }
      ]
    },
    {
      "cell_type": "code",
      "source": [
        "df.head()"
      ],
      "metadata": {
        "colab": {
          "base_uri": "https://localhost:8080/",
          "height": 238
        },
        "id": "q4ec3V5f-w20",
        "outputId": "160f41c5-4140-4482-a206-bc9257c1c7a3"
      },
      "execution_count": null,
      "outputs": [
        {
          "output_type": "execute_result",
          "data": {
            "text/plain": [
              "            #Passengers\n",
              "Month                  \n",
              "1949-03-01         20.0\n",
              "1949-04-01         11.0\n",
              "1949-05-01        -11.0\n",
              "1949-06-01          6.0\n",
              "1949-07-01         27.0"
            ],
            "text/html": [
              "\n",
              "  <div id=\"df-5aa88fb1-593d-4da9-956f-904ccffda538\">\n",
              "    <div class=\"colab-df-container\">\n",
              "      <div>\n",
              "<style scoped>\n",
              "    .dataframe tbody tr th:only-of-type {\n",
              "        vertical-align: middle;\n",
              "    }\n",
              "\n",
              "    .dataframe tbody tr th {\n",
              "        vertical-align: top;\n",
              "    }\n",
              "\n",
              "    .dataframe thead th {\n",
              "        text-align: right;\n",
              "    }\n",
              "</style>\n",
              "<table border=\"1\" class=\"dataframe\">\n",
              "  <thead>\n",
              "    <tr style=\"text-align: right;\">\n",
              "      <th></th>\n",
              "      <th>#Passengers</th>\n",
              "    </tr>\n",
              "    <tr>\n",
              "      <th>Month</th>\n",
              "      <th></th>\n",
              "    </tr>\n",
              "  </thead>\n",
              "  <tbody>\n",
              "    <tr>\n",
              "      <th>1949-03-01</th>\n",
              "      <td>20.0</td>\n",
              "    </tr>\n",
              "    <tr>\n",
              "      <th>1949-04-01</th>\n",
              "      <td>11.0</td>\n",
              "    </tr>\n",
              "    <tr>\n",
              "      <th>1949-05-01</th>\n",
              "      <td>-11.0</td>\n",
              "    </tr>\n",
              "    <tr>\n",
              "      <th>1949-06-01</th>\n",
              "      <td>6.0</td>\n",
              "    </tr>\n",
              "    <tr>\n",
              "      <th>1949-07-01</th>\n",
              "      <td>27.0</td>\n",
              "    </tr>\n",
              "  </tbody>\n",
              "</table>\n",
              "</div>\n",
              "      <button class=\"colab-df-convert\" onclick=\"convertToInteractive('df-5aa88fb1-593d-4da9-956f-904ccffda538')\"\n",
              "              title=\"Convert this dataframe to an interactive table.\"\n",
              "              style=\"display:none;\">\n",
              "        \n",
              "  <svg xmlns=\"http://www.w3.org/2000/svg\" height=\"24px\"viewBox=\"0 0 24 24\"\n",
              "       width=\"24px\">\n",
              "    <path d=\"M0 0h24v24H0V0z\" fill=\"none\"/>\n",
              "    <path d=\"M18.56 5.44l.94 2.06.94-2.06 2.06-.94-2.06-.94-.94-2.06-.94 2.06-2.06.94zm-11 1L8.5 8.5l.94-2.06 2.06-.94-2.06-.94L8.5 2.5l-.94 2.06-2.06.94zm10 10l.94 2.06.94-2.06 2.06-.94-2.06-.94-.94-2.06-.94 2.06-2.06.94z\"/><path d=\"M17.41 7.96l-1.37-1.37c-.4-.4-.92-.59-1.43-.59-.52 0-1.04.2-1.43.59L10.3 9.45l-7.72 7.72c-.78.78-.78 2.05 0 2.83L4 21.41c.39.39.9.59 1.41.59.51 0 1.02-.2 1.41-.59l7.78-7.78 2.81-2.81c.8-.78.8-2.07 0-2.86zM5.41 20L4 18.59l7.72-7.72 1.47 1.35L5.41 20z\"/>\n",
              "  </svg>\n",
              "      </button>\n",
              "      \n",
              "  <style>\n",
              "    .colab-df-container {\n",
              "      display:flex;\n",
              "      flex-wrap:wrap;\n",
              "      gap: 12px;\n",
              "    }\n",
              "\n",
              "    .colab-df-convert {\n",
              "      background-color: #E8F0FE;\n",
              "      border: none;\n",
              "      border-radius: 50%;\n",
              "      cursor: pointer;\n",
              "      display: none;\n",
              "      fill: #1967D2;\n",
              "      height: 32px;\n",
              "      padding: 0 0 0 0;\n",
              "      width: 32px;\n",
              "    }\n",
              "\n",
              "    .colab-df-convert:hover {\n",
              "      background-color: #E2EBFA;\n",
              "      box-shadow: 0px 1px 2px rgba(60, 64, 67, 0.3), 0px 1px 3px 1px rgba(60, 64, 67, 0.15);\n",
              "      fill: #174EA6;\n",
              "    }\n",
              "\n",
              "    [theme=dark] .colab-df-convert {\n",
              "      background-color: #3B4455;\n",
              "      fill: #D2E3FC;\n",
              "    }\n",
              "\n",
              "    [theme=dark] .colab-df-convert:hover {\n",
              "      background-color: #434B5C;\n",
              "      box-shadow: 0px 1px 3px 1px rgba(0, 0, 0, 0.15);\n",
              "      filter: drop-shadow(0px 1px 2px rgba(0, 0, 0, 0.3));\n",
              "      fill: #FFFFFF;\n",
              "    }\n",
              "  </style>\n",
              "\n",
              "      <script>\n",
              "        const buttonEl =\n",
              "          document.querySelector('#df-5aa88fb1-593d-4da9-956f-904ccffda538 button.colab-df-convert');\n",
              "        buttonEl.style.display =\n",
              "          google.colab.kernel.accessAllowed ? 'block' : 'none';\n",
              "\n",
              "        async function convertToInteractive(key) {\n",
              "          const element = document.querySelector('#df-5aa88fb1-593d-4da9-956f-904ccffda538');\n",
              "          const dataTable =\n",
              "            await google.colab.kernel.invokeFunction('convertToInteractive',\n",
              "                                                     [key], {});\n",
              "          if (!dataTable) return;\n",
              "\n",
              "          const docLinkHtml = 'Like what you see? Visit the ' +\n",
              "            '<a target=\"_blank\" href=https://colab.research.google.com/notebooks/data_table.ipynb>data table notebook</a>'\n",
              "            + ' to learn more about interactive tables.';\n",
              "          element.innerHTML = '';\n",
              "          dataTable['output_type'] = 'display_data';\n",
              "          await google.colab.output.renderOutput(dataTable, element);\n",
              "          const docLink = document.createElement('div');\n",
              "          docLink.innerHTML = docLinkHtml;\n",
              "          element.appendChild(docLink);\n",
              "        }\n",
              "      </script>\n",
              "    </div>\n",
              "  </div>\n",
              "  "
            ]
          },
          "metadata": {},
          "execution_count": 61
        }
      ]
    },
    {
      "cell_type": "code",
      "source": [
        "from statsmodels.tsa.stattools import acf\n",
        "from statsmodels.tsa.stattools import pacf\n",
        "from statsmodels.graphics.tsaplots import plot_acf\n",
        "from statsmodels.graphics.tsaplots import plot_pacf"
      ],
      "metadata": {
        "id": "fhSGu0HiEY5C"
      },
      "execution_count": null,
      "outputs": []
    },
    {
      "cell_type": "code",
      "source": [
        "lag_acf=acf(df)\n",
        "lag_pacf=pacf(df)\n",
        "fig=plt.figure(figsize=(12,8))\n",
        "ax1=fig.add_subplot(211)\n",
        "fig=plot_acf(lag_acf, lags=40,ax=ax1)\n",
        "ax2=fig.add_subplot(212)\n",
        "fig=plot_pacf(lag_pacf, lags=40,ax=ax2)"
      ],
      "metadata": {
        "colab": {
          "base_uri": "https://localhost:8080/",
          "height": 499
        },
        "id": "T3yDzVYWPHFG",
        "outputId": "c3e26e6a-fe6c-45da-a959-7aa645cdc07b"
      },
      "execution_count": null,
      "outputs": [
        {
          "output_type": "display_data",
          "data": {
            "text/plain": [
              "<Figure size 864x576 with 2 Axes>"
            ],
            "image/png": "[encoded data removed]"
          },
          "metadata": {
            "needs_background": "light"
          }
        }
      ]
    },
    {
      "cell_type": "code",
      "source": [
        "# Auto regressive,p:1 (PACF plot)\n",
        "# Differentiation,d=2 (Period Size)\n",
        "# Moving average,q=2  (ACF plot)"
      ],
      "metadata": {
        "id": "9dBHVPtPWGCO"
      },
      "execution_count": null,
      "outputs": []
    },
    {
      "cell_type": "code",
      "source": [
        "from statsmodels.tsa.arima_model import ARIMA\n",
        "from sklearn.model_selection import train_test_split"
      ],
      "metadata": {
        "id": "uE_ZEDI2Wpad"
      },
      "execution_count": null,
      "outputs": []
    },
    {
      "cell_type": "code",
      "source": [
        "pip install pmdarima"
      ],
      "metadata": {
        "colab": {
          "base_uri": "https://localhost:8080/",
          "height": 572
        },
        "id": "N5JByKvyaD1U",
        "outputId": "86d9c79b-6cfd-43a4-9f40-fba8e1237321"
      },
      "execution_count": null,
      "outputs": [
        {
          "output_type": "stream",
          "name": "stdout",
          "text": [
            "Collecting pmdarima\n",
            "  Downloading pmdarima-1.8.5-cp37-cp37m-manylinux_2_17_x86_64.manylinux2014_x86_64.manylinux_2_24_x86_64.whl (1.4 MB)\n",
            "\u001b[?25l\r\u001b[K     |▎                               | 10 kB 22.8 MB/s eta 0:00:01\r\u001b[K     |▌                               | 20 kB 29.1 MB/s eta 0:00:01\r\u001b[K     |▊                               | 30 kB 17.1 MB/s eta 0:00:01\r\u001b[K     |█                               | 40 kB 11.4 MB/s eta 0:00:01\r\u001b[K     |█▏                              | 51 kB 5.3 MB/s eta 0:00:01\r\u001b[K     |█▍                              | 61 kB 6.2 MB/s eta 0:00:01\r\u001b[K     |█▋                              | 71 kB 7.1 MB/s eta 0:00:01\r\u001b[K     |██                              | 81 kB 5.8 MB/s eta 0:00:01\r\u001b[K     |██▏                             | 92 kB 6.4 MB/s eta 0:00:01\r\u001b[K     |██▍                             | 102 kB 7.0 MB/s eta 0:00:01\r\u001b[K     |██▋                             | 112 kB 7.0 MB/s eta 0:00:01\r\u001b[K     |██▉                             | 122 kB 7.0 MB/s eta 0:00:01\r\u001b[K     |███                             | 133 kB 7.0 MB/s eta 0:00:01\r\u001b[K     |███▎                            | 143 kB 7.0 MB/s eta 0:00:01\r\u001b[K     |███▌                            | 153 kB 7.0 MB/s eta 0:00:01\r\u001b[K     |███▉                            | 163 kB 7.0 MB/s eta 0:00:01\r\u001b[K     |████                            | 174 kB 7.0 MB/s eta 0:00:01\r\u001b[K     |████▎                           | 184 kB 7.0 MB/s eta 0:00:01\r\u001b[K     |████▌                           | 194 kB 7.0 MB/s eta 0:00:01\r\u001b[K     |████▊                           | 204 kB 7.0 MB/s eta 0:00:01\r\u001b[K     |█████                           | 215 kB 7.0 MB/s eta 0:00:01\r\u001b[K     |█████▏                          | 225 kB 7.0 MB/s eta 0:00:01\r\u001b[K     |█████▍                          | 235 kB 7.0 MB/s eta 0:00:01\r\u001b[K     |█████▊                          | 245 kB 7.0 MB/s eta 0:00:01\r\u001b[K     |██████                          | 256 kB 7.0 MB/s eta 0:00:01\r\u001b[K     |██████▏                         | 266 kB 7.0 MB/s eta 0:00:01\r\u001b[K     |██████▍                         | 276 kB 7.0 MB/s eta 0:00:01\r\u001b[K     |██████▋                         | 286 kB 7.0 MB/s eta 0:00:01\r\u001b[K     |██████▉                         | 296 kB 7.0 MB/s eta 0:00:01\r\u001b[K     |███████                         | 307 kB 7.0 MB/s eta 0:00:01\r\u001b[K     |███████▎                        | 317 kB 7.0 MB/s eta 0:00:01\r\u001b[K     |███████▋                        | 327 kB 7.0 MB/s eta 0:00:01\r\u001b[K     |███████▉                        | 337 kB 7.0 MB/s eta 0:00:01\r\u001b[K     |████████                        | 348 kB 7.0 MB/s eta 0:00:01\r\u001b[K     |████████▎                       | 358 kB 7.0 MB/s eta 0:00:01\r\u001b[K     |████████▌                       | 368 kB 7.0 MB/s eta 0:00:01\r\u001b[K     |████████▊                       | 378 kB 7.0 MB/s eta 0:00:01\r\u001b[K     |█████████                       | 389 kB 7.0 MB/s eta 0:00:01\r\u001b[K     |█████████▎                      | 399 kB 7.0 MB/s eta 0:00:01\r\u001b[K     |█████████▌                      | 409 kB 7.0 MB/s eta 0:00:01\r\u001b[K     |█████████▊                      | 419 kB 7.0 MB/s eta 0:00:01\r\u001b[K     |██████████                      | 430 kB 7.0 MB/s eta 0:00:01\r\u001b[K     |██████████▏                     | 440 kB 7.0 MB/s eta 0:00:01\r\u001b[K     |██████████▍                     | 450 kB 7.0 MB/s eta 0:00:01\r\u001b[K     |██████████▋                     | 460 kB 7.0 MB/s eta 0:00:01\r\u001b[K     |██████████▉                     | 471 kB 7.0 MB/s eta 0:00:01\r\u001b[K     |███████████▏                    | 481 kB 7.0 MB/s eta 0:00:01\r\u001b[K     |███████████▍                    | 491 kB 7.0 MB/s eta 0:00:01\r\u001b[K     |███████████▋                    | 501 kB 7.0 MB/s eta 0:00:01\r\u001b[K     |███████████▉                    | 512 kB 7.0 MB/s eta 0:00:01\r\u001b[K     |████████████                    | 522 kB 7.0 MB/s eta 0:00:01\r\u001b[K     |████████████▎                   | 532 kB 7.0 MB/s eta 0:00:01\r\u001b[K     |████████████▌                   | 542 kB 7.0 MB/s eta 0:00:01\r\u001b[K     |████████████▊                   | 552 kB 7.0 MB/s eta 0:00:01\r\u001b[K     |█████████████                   | 563 kB 7.0 MB/s eta 0:00:01\r\u001b[K     |█████████████▎                  | 573 kB 7.0 MB/s eta 0:00:01\r\u001b[K     |█████████████▌                  | 583 kB 7.0 MB/s eta 0:00:01\r\u001b[K     |█████████████▊                  | 593 kB 7.0 MB/s eta 0:00:01\r\u001b[K     |██████████████                  | 604 kB 7.0 MB/s eta 0:00:01\r\u001b[K     |██████████████▏                 | 614 kB 7.0 MB/s eta 0:00:01\r\u001b[K     |██████████████▍                 | 624 kB 7.0 MB/s eta 0:00:01\r\u001b[K     |██████████████▋                 | 634 kB 7.0 MB/s eta 0:00:01\r\u001b[K     |███████████████                 | 645 kB 7.0 MB/s eta 0:00:01\r\u001b[K     |███████████████▏                | 655 kB 7.0 MB/s eta 0:00:01\r\u001b[K     |███████████████▍                | 665 kB 7.0 MB/s eta 0:00:01\r\u001b[K     |███████████████▋                | 675 kB 7.0 MB/s eta 0:00:01\r\u001b[K     |███████████████▉                | 686 kB 7.0 MB/s eta 0:00:01\r\u001b[K     |████████████████                | 696 kB 7.0 MB/s eta 0:00:01\r\u001b[K     |████████████████▎               | 706 kB 7.0 MB/s eta 0:00:01\r\u001b[K     |████████████████▋               | 716 kB 7.0 MB/s eta 0:00:01\r\u001b[K     |████████████████▉               | 727 kB 7.0 MB/s eta 0:00:01\r\u001b[K     |█████████████████               | 737 kB 7.0 MB/s eta 0:00:01\r\u001b[K     |█████████████████▎              | 747 kB 7.0 MB/s eta 0:00:01\r\u001b[K     |█████████████████▌              | 757 kB 7.0 MB/s eta 0:00:01\r\u001b[K     |█████████████████▊              | 768 kB 7.0 MB/s eta 0:00:01\r\u001b[K     |██████████████████              | 778 kB 7.0 MB/s eta 0:00:01\r\u001b[K     |██████████████████▏             | 788 kB 7.0 MB/s eta 0:00:01\r\u001b[K     |██████████████████▌             | 798 kB 7.0 MB/s eta 0:00:01\r\u001b[K     |██████████████████▊             | 808 kB 7.0 MB/s eta 0:00:01\r\u001b[K     |███████████████████             | 819 kB 7.0 MB/s eta 0:00:01\r\u001b[K     |███████████████████▏            | 829 kB 7.0 MB/s eta 0:00:01\r\u001b[K     |███████████████████▍            | 839 kB 7.0 MB/s eta 0:00:01\r\u001b[K     |███████████████████▋            | 849 kB 7.0 MB/s eta 0:00:01\r\u001b[K     |███████████████████▉            | 860 kB 7.0 MB/s eta 0:00:01\r\u001b[K     |████████████████████            | 870 kB 7.0 MB/s eta 0:00:01\r\u001b[K     |████████████████████▍           | 880 kB 7.0 MB/s eta 0:00:01\r\u001b[K     |████████████████████▋           | 890 kB 7.0 MB/s eta 0:00:01\r\u001b[K     |████████████████████▉           | 901 kB 7.0 MB/s eta 0:00:01\r\u001b[K     |█████████████████████           | 911 kB 7.0 MB/s eta 0:00:01\r\u001b[K     |█████████████████████▎          | 921 kB 7.0 MB/s eta 0:00:01\r\u001b[K     |█████████████████████▌          | 931 kB 7.0 MB/s eta 0:00:01\r\u001b[K     |█████████████████████▊          | 942 kB 7.0 MB/s eta 0:00:01\r\u001b[K     |██████████████████████          | 952 kB 7.0 MB/s eta 0:00:01\r\u001b[K     |██████████████████████▎         | 962 kB 7.0 MB/s eta 0:00:01\r\u001b[K     |██████████████████████▌         | 972 kB 7.0 MB/s eta 0:00:01\r\u001b[K     |██████████████████████▊         | 983 kB 7.0 MB/s eta 0:00:01\r\u001b[K     |███████████████████████         | 993 kB 7.0 MB/s eta 0:00:01\r\u001b[K     |███████████████████████▏        | 1.0 MB 7.0 MB/s eta 0:00:01\r\u001b[K     |███████████████████████▍        | 1.0 MB 7.0 MB/s eta 0:00:01\r\u001b[K     |███████████████████████▋        | 1.0 MB 7.0 MB/s eta 0:00:01\r\u001b[K     |████████████████████████        | 1.0 MB 7.0 MB/s eta 0:00:01\r\u001b[K     |████████████████████████▏       | 1.0 MB 7.0 MB/s eta 0:00:01\r\u001b[K     |████████████████████████▍       | 1.1 MB 7.0 MB/s eta 0:00:01\r\u001b[K     |████████████████████████▋       | 1.1 MB 7.0 MB/s eta 0:00:01\r\u001b[K     |████████████████████████▉       | 1.1 MB 7.0 MB/s eta 0:00:01\r\u001b[K     |█████████████████████████       | 1.1 MB 7.0 MB/s eta 0:00:01\r\u001b[K     |█████████████████████████▎      | 1.1 MB 7.0 MB/s eta 0:00:01\r\u001b[K     |█████████████████████████▌      | 1.1 MB 7.0 MB/s eta 0:00:01\r\u001b[K     |█████████████████████████▉      | 1.1 MB 7.0 MB/s eta 0:00:01\r\u001b[K     |██████████████████████████      | 1.1 MB 7.0 MB/s eta 0:00:01\r\u001b[K     |██████████████████████████▎     | 1.1 MB 7.0 MB/s eta 0:00:01\r\u001b[K     |██████████████████████████▌     | 1.1 MB 7.0 MB/s eta 0:00:01\r\u001b[K     |██████████████████████████▊     | 1.2 MB 7.0 MB/s eta 0:00:01\r\u001b[K     |███████████████████████████     | 1.2 MB 7.0 MB/s eta 0:00:01\r\u001b[K     |███████████████████████████▏    | 1.2 MB 7.0 MB/s eta 0:00:01\r\u001b[K     |███████████████████████████▍    | 1.2 MB 7.0 MB/s eta 0:00:01\r\u001b[K     |███████████████████████████▊    | 1.2 MB 7.0 MB/s eta 0:00:01\r\u001b[K     |████████████████████████████    | 1.2 MB 7.0 MB/s eta 0:00:01\r\u001b[K     |████████████████████████████▏   | 1.2 MB 7.0 MB/s eta 0:00:01\r\u001b[K     |████████████████████████████▍   | 1.2 MB 7.0 MB/s eta 0:00:01\r\u001b[K     |████████████████████████████▋   | 1.2 MB 7.0 MB/s eta 0:00:01\r\u001b[K     |████████████████████████████▉   | 1.2 MB 7.0 MB/s eta 0:00:01\r\u001b[K     |█████████████████████████████   | 1.3 MB 7.0 MB/s eta 0:00:01\r\u001b[K     |█████████████████████████████▎  | 1.3 MB 7.0 MB/s eta 0:00:01\r\u001b[K     |█████████████████████████████▋  | 1.3 MB 7.0 MB/s eta 0:00:01\r\u001b[K     |█████████████████████████████▉  | 1.3 MB 7.0 MB/s eta 0:00:01\r\u001b[K     |██████████████████████████████  | 1.3 MB 7.0 MB/s eta 0:00:01\r\u001b[K     |██████████████████████████████▎ | 1.3 MB 7.0 MB/s eta 0:00:01\r\u001b[K     |██████████████████████████████▌ | 1.3 MB 7.0 MB/s eta 0:00:01\r\u001b[K     |██████████████████████████████▊ | 1.3 MB 7.0 MB/s eta 0:00:01\r\u001b[K     |███████████████████████████████ | 1.3 MB 7.0 MB/s eta 0:00:01\r\u001b[K     |███████████████████████████████▎| 1.4 MB 7.0 MB/s eta 0:00:01\r\u001b[K     |███████████████████████████████▌| 1.4 MB 7.0 MB/s eta 0:00:01\r\u001b[K     |███████████████████████████████▊| 1.4 MB 7.0 MB/s eta 0:00:01\r\u001b[K     |████████████████████████████████| 1.4 MB 7.0 MB/s eta 0:00:01\r\u001b[K     |████████████████████████████████| 1.4 MB 7.0 MB/s \n",
            "\u001b[?25hRequirement already satisfied: scipy>=1.3.2 in /usr/local/lib/python3.7/dist-packages (from pmdarima) (1.4.1)\n",
            "Requirement already satisfied: setuptools!=50.0.0,>=38.6.0 in /usr/local/lib/python3.7/dist-packages (from pmdarima) (57.4.0)\n",
            "Requirement already satisfied: numpy>=1.19.3 in /usr/local/lib/python3.7/dist-packages (from pmdarima) (1.21.5)\n",
            "Requirement already satisfied: joblib>=0.11 in /usr/local/lib/python3.7/dist-packages (from pmdarima) (1.1.0)\n",
            "Collecting statsmodels!=0.12.0,>=0.11\n",
            "  Downloading statsmodels-0.13.2-cp37-cp37m-manylinux_2_17_x86_64.manylinux2014_x86_64.whl (9.8 MB)\n",
            "\u001b[K     |████████████████████████████████| 9.8 MB 20.9 MB/s \n",
            "\u001b[?25hRequirement already satisfied: scikit-learn>=0.22 in /usr/local/lib/python3.7/dist-packages (from pmdarima) (1.0.2)\n",
            "Requirement already satisfied: pandas>=0.19 in /usr/local/lib/python3.7/dist-packages (from pmdarima) (1.3.5)\n",
            "Requirement already satisfied: urllib3 in /usr/local/lib/python3.7/dist-packages (from pmdarima) (1.24.3)\n",
            "Requirement already satisfied: Cython!=0.29.18,>=0.29 in /usr/local/lib/python3.7/dist-packages (from pmdarima) (0.29.28)\n",
            "Requirement already satisfied: pytz>=2017.3 in /usr/local/lib/python3.7/dist-packages (from pandas>=0.19->pmdarima) (2018.9)\n",
            "Requirement already satisfied: python-dateutil>=2.7.3 in /usr/local/lib/python3.7/dist-packages (from pandas>=0.19->pmdarima) (2.8.2)\n",
            "Requirement already satisfied: six>=1.5 in /usr/local/lib/python3.7/dist-packages (from python-dateutil>=2.7.3->pandas>=0.19->pmdarima) (1.15.0)\n",
            "Requirement already satisfied: threadpoolctl>=2.0.0 in /usr/local/lib/python3.7/dist-packages (from scikit-learn>=0.22->pmdarima) (3.1.0)\n",
            "Requirement already satisfied: patsy>=0.5.2 in /usr/local/lib/python3.7/dist-packages (from statsmodels!=0.12.0,>=0.11->pmdarima) (0.5.2)\n",
            "Requirement already satisfied: packaging>=21.3 in /usr/local/lib/python3.7/dist-packages (from statsmodels!=0.12.0,>=0.11->pmdarima) (21.3)\n",
            "Requirement already satisfied: pyparsing!=3.0.5,>=2.0.2 in /usr/local/lib/python3.7/dist-packages (from packaging>=21.3->statsmodels!=0.12.0,>=0.11->pmdarima) (3.0.7)\n",
            "Installing collected packages: statsmodels, pmdarima\n",
            "  Attempting uninstall: statsmodels\n",
            "    Found existing installation: statsmodels 0.10.2\n",
            "    Uninstalling statsmodels-0.10.2:\n",
            "      Successfully uninstalled statsmodels-0.10.2\n",
            "Successfully installed pmdarima-1.8.5 statsmodels-0.13.2\n"
          ]
        },
        {
          "output_type": "display_data",
          "data": {
            "application/vnd.colab-display-data+json": {
              "pip_warning": {
                "packages": [
                  "statsmodels"
                ]
              }
            }
          },
          "metadata": {}
        }
      ]
    },
    {
      "cell_type": "code",
      "source": [
        "from pmdarima.arima import auto_arima\n",
        "\n",
        "import warnings\n",
        "warnings.filterwarnings(\"ignore\")"
      ],
      "metadata": {
        "id": "0-1AAiVjaJ2B"
      },
      "execution_count": null,
      "outputs": []
    },
    {
      "cell_type": "code",
      "source": [
        "print(data.shape)\n",
        "train=data.iloc[:-30]\n",
        "test=data.iloc[-30:]\n",
        "print(train.shape,test.shape)"
      ],
      "metadata": {
        "colab": {
          "base_uri": "https://localhost:8080/"
        },
        "id": "Oz-ncEbJi1_5",
        "outputId": "9c7d7bb2-acac-434a-9c23-e6b11ed27469"
      },
      "execution_count": null,
      "outputs": [
        {
          "output_type": "stream",
          "name": "stdout",
          "text": [
            "(144, 1)\n",
            "(114, 1) (30, 1)\n"
          ]
        }
      ]
    },
    {
      "cell_type": "code",
      "source": [
        "test.head()"
      ],
      "metadata": {
        "colab": {
          "base_uri": "https://localhost:8080/",
          "height": 238
        },
        "id": "oboSYyNBjtUA",
        "outputId": "b9fe277d-fc26-498d-8bca-2f02d31c88fe"
      },
      "execution_count": null,
      "outputs": [
        {
          "output_type": "execute_result",
          "data": {
            "text/plain": [
              "            #Passengers\n",
              "Month                  \n",
              "1958-07-01          491\n",
              "1958-08-01          505\n",
              "1958-09-01          404\n",
              "1958-10-01          359\n",
              "1958-11-01          310"
            ],
            "text/html": [
              "\n",
              "  <div id=\"df-c2766003-6059-44dc-a7e5-427b6232d6c2\">\n",
              "    <div class=\"colab-df-container\">\n",
              "      <div>\n",
              "<style scoped>\n",
              "    .dataframe tbody tr th:only-of-type {\n",
              "        vertical-align: middle;\n",
              "    }\n",
              "\n",
              "    .dataframe tbody tr th {\n",
              "        vertical-align: top;\n",
              "    }\n",
              "\n",
              "    .dataframe thead th {\n",
              "        text-align: right;\n",
              "    }\n",
              "</style>\n",
              "<table border=\"1\" class=\"dataframe\">\n",
              "  <thead>\n",
              "    <tr style=\"text-align: right;\">\n",
              "      <th></th>\n",
              "      <th>#Passengers</th>\n",
              "    </tr>\n",
              "    <tr>\n",
              "      <th>Month</th>\n",
              "      <th></th>\n",
              "    </tr>\n",
              "  </thead>\n",
              "  <tbody>\n",
              "    <tr>\n",
              "      <th>1958-07-01</th>\n",
              "      <td>491</td>\n",
              "    </tr>\n",
              "    <tr>\n",
              "      <th>1958-08-01</th>\n",
              "      <td>505</td>\n",
              "    </tr>\n",
              "    <tr>\n",
              "      <th>1958-09-01</th>\n",
              "      <td>404</td>\n",
              "    </tr>\n",
              "    <tr>\n",
              "      <th>1958-10-01</th>\n",
              "      <td>359</td>\n",
              "    </tr>\n",
              "    <tr>\n",
              "      <th>1958-11-01</th>\n",
              "      <td>310</td>\n",
              "    </tr>\n",
              "  </tbody>\n",
              "</table>\n",
              "</div>\n",
              "      <button class=\"colab-df-convert\" onclick=\"convertToInteractive('df-c2766003-6059-44dc-a7e5-427b6232d6c2')\"\n",
              "              title=\"Convert this dataframe to an interactive table.\"\n",
              "              style=\"display:none;\">\n",
              "        \n",
              "  <svg xmlns=\"http://www.w3.org/2000/svg\" height=\"24px\"viewBox=\"0 0 24 24\"\n",
              "       width=\"24px\">\n",
              "    <path d=\"M0 0h24v24H0V0z\" fill=\"none\"/>\n",
              "    <path d=\"M18.56 5.44l.94 2.06.94-2.06 2.06-.94-2.06-.94-.94-2.06-.94 2.06-2.06.94zm-11 1L8.5 8.5l.94-2.06 2.06-.94-2.06-.94L8.5 2.5l-.94 2.06-2.06.94zm10 10l.94 2.06.94-2.06 2.06-.94-2.06-.94-.94-2.06-.94 2.06-2.06.94z\"/><path d=\"M17.41 7.96l-1.37-1.37c-.4-.4-.92-.59-1.43-.59-.52 0-1.04.2-1.43.59L10.3 9.45l-7.72 7.72c-.78.78-.78 2.05 0 2.83L4 21.41c.39.39.9.59 1.41.59.51 0 1.02-.2 1.41-.59l7.78-7.78 2.81-2.81c.8-.78.8-2.07 0-2.86zM5.41 20L4 18.59l7.72-7.72 1.47 1.35L5.41 20z\"/>\n",
              "  </svg>\n",
              "      </button>\n",
              "      \n",
              "  <style>\n",
              "    .colab-df-container {\n",
              "      display:flex;\n",
              "      flex-wrap:wrap;\n",
              "      gap: 12px;\n",
              "    }\n",
              "\n",
              "    .colab-df-convert {\n",
              "      background-color: #E8F0FE;\n",
              "      border: none;\n",
              "      border-radius: 50%;\n",
              "      cursor: pointer;\n",
              "      display: none;\n",
              "      fill: #1967D2;\n",
              "      height: 32px;\n",
              "      padding: 0 0 0 0;\n",
              "      width: 32px;\n",
              "    }\n",
              "\n",
              "    .colab-df-convert:hover {\n",
              "      background-color: #E2EBFA;\n",
              "      box-shadow: 0px 1px 2px rgba(60, 64, 67, 0.3), 0px 1px 3px 1px rgba(60, 64, 67, 0.15);\n",
              "      fill: #174EA6;\n",
              "    }\n",
              "\n",
              "    [theme=dark] .colab-df-convert {\n",
              "      background-color: #3B4455;\n",
              "      fill: #D2E3FC;\n",
              "    }\n",
              "\n",
              "    [theme=dark] .colab-df-convert:hover {\n",
              "      background-color: #434B5C;\n",
              "      box-shadow: 0px 1px 3px 1px rgba(0, 0, 0, 0.15);\n",
              "      filter: drop-shadow(0px 1px 2px rgba(0, 0, 0, 0.3));\n",
              "      fill: #FFFFFF;\n",
              "    }\n",
              "  </style>\n",
              "\n",
              "      <script>\n",
              "        const buttonEl =\n",
              "          document.querySelector('#df-c2766003-6059-44dc-a7e5-427b6232d6c2 button.colab-df-convert');\n",
              "        buttonEl.style.display =\n",
              "          google.colab.kernel.accessAllowed ? 'block' : 'none';\n",
              "\n",
              "        async function convertToInteractive(key) {\n",
              "          const element = document.querySelector('#df-c2766003-6059-44dc-a7e5-427b6232d6c2');\n",
              "          const dataTable =\n",
              "            await google.colab.kernel.invokeFunction('convertToInteractive',\n",
              "                                                     [key], {});\n",
              "          if (!dataTable) return;\n",
              "\n",
              "          const docLinkHtml = 'Like what you see? Visit the ' +\n",
              "            '<a target=\"_blank\" href=https://colab.research.google.com/notebooks/data_table.ipynb>data table notebook</a>'\n",
              "            + ' to learn more about interactive tables.';\n",
              "          element.innerHTML = '';\n",
              "          dataTable['output_type'] = 'display_data';\n",
              "          await google.colab.output.renderOutput(dataTable, element);\n",
              "          const docLink = document.createElement('div');\n",
              "          docLink.innerHTML = docLinkHtml;\n",
              "          element.appendChild(docLink);\n",
              "        }\n",
              "      </script>\n",
              "    </div>\n",
              "  </div>\n",
              "  "
            ]
          },
          "metadata": {},
          "execution_count": 23
        }
      ]
    },
    {
      "cell_type": "code",
      "source": [
        "model=auto_arima(train,suppress_warnings=True)\n",
        "model.summary()"
      ],
      "metadata": {
        "colab": {
          "base_uri": "https://localhost:8080/",
          "height": 494
        },
        "id": "D0jSvvb1cGRy",
        "outputId": "7b02d7eb-5a06-4d35-93b1-2dfe9f4b3f1e"
      },
      "execution_count": null,
      "outputs": [
        {
          "output_type": "execute_result",
          "data": {
            "text/plain": [
              "<class 'statsmodels.iolib.summary.Summary'>\n",
              "\"\"\"\n",
              "                           Statespace Model Results                           \n",
              "==============================================================================\n",
              "Dep. Variable:                      y   No. Observations:                  129\n",
              "Model:               SARIMAX(2, 1, 2)   Log Likelihood                -589.217\n",
              "Date:                Wed, 16 Mar 2022   AIC                           1190.435\n",
              "Time:                        04:40:22   BIC                           1207.547\n",
              "Sample:                             0   HQIC                          1197.388\n",
              "                                - 129                                         \n",
              "Covariance Type:                  opg                                         \n",
              "==============================================================================\n",
              "                 coef    std err          z      P>|z|      [0.025      0.975]\n",
              "------------------------------------------------------------------------------\n",
              "intercept      0.6605      0.126      5.239      0.000       0.413       0.908\n",
              "ar.L1          1.6235      0.041     39.770      0.000       1.543       1.703\n",
              "ar.L2         -0.8951      0.041    -21.896      0.000      -0.975      -0.815\n",
              "ma.L1         -1.8017      0.061    -29.401      0.000      -1.922      -1.682\n",
              "ma.L2          0.8546      0.059     14.459      0.000       0.739       0.970\n",
              "sigma2       564.9450     64.543      8.753      0.000     438.442     691.448\n",
              "===================================================================================\n",
              "Ljung-Box (Q):                      280.85   Jarque-Bera (JB):                 2.68\n",
              "Prob(Q):                              0.00   Prob(JB):                         0.26\n",
              "Heteroskedasticity (H):               6.31   Skew:                             0.25\n",
              "Prob(H) (two-sided):                  0.00   Kurtosis:                         3.50\n",
              "===================================================================================\n",
              "\n",
              "Warnings:\n",
              "[1] Covariance matrix calculated using the outer product of gradients (complex-step).\n",
              "\"\"\""
            ],
            "text/html": [
              "<table class=\"simpletable\">\n",
              "<caption>Statespace Model Results</caption>\n",
              "<tr>\n",
              "  <th>Dep. Variable:</th>           <td>y</td>        <th>  No. Observations:  </th>    <td>129</td>  \n",
              "</tr>\n",
              "<tr>\n",
              "  <th>Model:</th>           <td>SARIMAX(2, 1, 2)</td> <th>  Log Likelihood     </th> <td>-589.217</td>\n",
              "</tr>\n",
              "<tr>\n",
              "  <th>Date:</th>            <td>Wed, 16 Mar 2022</td> <th>  AIC                </th> <td>1190.435</td>\n",
              "</tr>\n",
              "<tr>\n",
              "  <th>Time:</th>                <td>04:40:22</td>     <th>  BIC                </th> <td>1207.547</td>\n",
              "</tr>\n",
              "<tr>\n",
              "  <th>Sample:</th>                  <td>0</td>        <th>  HQIC               </th> <td>1197.388</td>\n",
              "</tr>\n",
              "<tr>\n",
              "  <th></th>                      <td> - 129</td>      <th>                     </th>     <td> </td>   \n",
              "</tr>\n",
              "<tr>\n",
              "  <th>Covariance Type:</th>        <td>opg</td>       <th>                     </th>     <td> </td>   \n",
              "</tr>\n",
              "</table>\n",
              "<table class=\"simpletable\">\n",
              "<tr>\n",
              "      <td></td>         <th>coef</th>     <th>std err</th>      <th>z</th>      <th>P>|z|</th>  <th>[0.025</th>    <th>0.975]</th>  \n",
              "</tr>\n",
              "<tr>\n",
              "  <th>intercept</th> <td>    0.6605</td> <td>    0.126</td> <td>    5.239</td> <td> 0.000</td> <td>    0.413</td> <td>    0.908</td>\n",
              "</tr>\n",
              "<tr>\n",
              "  <th>ar.L1</th>     <td>    1.6235</td> <td>    0.041</td> <td>   39.770</td> <td> 0.000</td> <td>    1.543</td> <td>    1.703</td>\n",
              "</tr>\n",
              "<tr>\n",
              "  <th>ar.L2</th>     <td>   -0.8951</td> <td>    0.041</td> <td>  -21.896</td> <td> 0.000</td> <td>   -0.975</td> <td>   -0.815</td>\n",
              "</tr>\n",
              "<tr>\n",
              "  <th>ma.L1</th>     <td>   -1.8017</td> <td>    0.061</td> <td>  -29.401</td> <td> 0.000</td> <td>   -1.922</td> <td>   -1.682</td>\n",
              "</tr>\n",
              "<tr>\n",
              "  <th>ma.L2</th>     <td>    0.8546</td> <td>    0.059</td> <td>   14.459</td> <td> 0.000</td> <td>    0.739</td> <td>    0.970</td>\n",
              "</tr>\n",
              "<tr>\n",
              "  <th>sigma2</th>    <td>  564.9450</td> <td>   64.543</td> <td>    8.753</td> <td> 0.000</td> <td>  438.442</td> <td>  691.448</td>\n",
              "</tr>\n",
              "</table>\n",
              "<table class=\"simpletable\">\n",
              "<tr>\n",
              "  <th>Ljung-Box (Q):</th>          <td>280.85</td> <th>  Jarque-Bera (JB):  </th> <td>2.68</td>\n",
              "</tr>\n",
              "<tr>\n",
              "  <th>Prob(Q):</th>                 <td>0.00</td>  <th>  Prob(JB):          </th> <td>0.26</td>\n",
              "</tr>\n",
              "<tr>\n",
              "  <th>Heteroskedasticity (H):</th>  <td>6.31</td>  <th>  Skew:              </th> <td>0.25</td>\n",
              "</tr>\n",
              "<tr>\n",
              "  <th>Prob(H) (two-sided):</th>     <td>0.00</td>  <th>  Kurtosis:          </th> <td>3.50</td>\n",
              "</tr>\n",
              "</table><br/><br/>Warnings:<br/>[1] Covariance matrix calculated using the outer product of gradients (complex-step)."
            ]
          },
          "metadata": {},
          "execution_count": 75
        }
      ]
    },
    {
      "cell_type": "code",
      "source": [
        "pred=pd.DataFrame(model.predict(n_periods=30))\n",
        "pred.index=test.index\n",
        "pred.columns=['prediction']\n",
        "pred.head()"
      ],
      "metadata": {
        "colab": {
          "base_uri": "https://localhost:8080/",
          "height": 238
        },
        "id": "K-j7pC8NliNr",
        "outputId": "926a5fbc-e3a0-4f2c-a4ba-3a99fc5142a3"
      },
      "execution_count": null,
      "outputs": [
        {
          "output_type": "execute_result",
          "data": {
            "text/plain": [
              "            prediction\n",
              "Month                 \n",
              "1958-07-01  398.417841\n",
              "1958-08-01  349.818443\n",
              "1958-09-01  329.385656\n",
              "1958-10-01  340.374496\n",
              "1958-11-01  377.163871"
            ],
            "text/html": [
              "\n",
              "  <div id=\"df-1cdf8cdd-8bb4-4ffb-aff3-cd5acbd135fa\">\n",
              "    <div class=\"colab-df-container\">\n",
              "      <div>\n",
              "<style scoped>\n",
              "    .dataframe tbody tr th:only-of-type {\n",
              "        vertical-align: middle;\n",
              "    }\n",
              "\n",
              "    .dataframe tbody tr th {\n",
              "        vertical-align: top;\n",
              "    }\n",
              "\n",
              "    .dataframe thead th {\n",
              "        text-align: right;\n",
              "    }\n",
              "</style>\n",
              "<table border=\"1\" class=\"dataframe\">\n",
              "  <thead>\n",
              "    <tr style=\"text-align: right;\">\n",
              "      <th></th>\n",
              "      <th>prediction</th>\n",
              "    </tr>\n",
              "    <tr>\n",
              "      <th>Month</th>\n",
              "      <th></th>\n",
              "    </tr>\n",
              "  </thead>\n",
              "  <tbody>\n",
              "    <tr>\n",
              "      <th>1958-07-01</th>\n",
              "      <td>398.417841</td>\n",
              "    </tr>\n",
              "    <tr>\n",
              "      <th>1958-08-01</th>\n",
              "      <td>349.818443</td>\n",
              "    </tr>\n",
              "    <tr>\n",
              "      <th>1958-09-01</th>\n",
              "      <td>329.385656</td>\n",
              "    </tr>\n",
              "    <tr>\n",
              "      <th>1958-10-01</th>\n",
              "      <td>340.374496</td>\n",
              "    </tr>\n",
              "    <tr>\n",
              "      <th>1958-11-01</th>\n",
              "      <td>377.163871</td>\n",
              "    </tr>\n",
              "  </tbody>\n",
              "</table>\n",
              "</div>\n",
              "      <button class=\"colab-df-convert\" onclick=\"convertToInteractive('df-1cdf8cdd-8bb4-4ffb-aff3-cd5acbd135fa')\"\n",
              "              title=\"Convert this dataframe to an interactive table.\"\n",
              "              style=\"display:none;\">\n",
              "        \n",
              "  <svg xmlns=\"http://www.w3.org/2000/svg\" height=\"24px\"viewBox=\"0 0 24 24\"\n",
              "       width=\"24px\">\n",
              "    <path d=\"M0 0h24v24H0V0z\" fill=\"none\"/>\n",
              "    <path d=\"M18.56 5.44l.94 2.06.94-2.06 2.06-.94-2.06-.94-.94-2.06-.94 2.06-2.06.94zm-11 1L8.5 8.5l.94-2.06 2.06-.94-2.06-.94L8.5 2.5l-.94 2.06-2.06.94zm10 10l.94 2.06.94-2.06 2.06-.94-2.06-.94-.94-2.06-.94 2.06-2.06.94z\"/><path d=\"M17.41 7.96l-1.37-1.37c-.4-.4-.92-.59-1.43-.59-.52 0-1.04.2-1.43.59L10.3 9.45l-7.72 7.72c-.78.78-.78 2.05 0 2.83L4 21.41c.39.39.9.59 1.41.59.51 0 1.02-.2 1.41-.59l7.78-7.78 2.81-2.81c.8-.78.8-2.07 0-2.86zM5.41 20L4 18.59l7.72-7.72 1.47 1.35L5.41 20z\"/>\n",
              "  </svg>\n",
              "      </button>\n",
              "      \n",
              "  <style>\n",
              "    .colab-df-container {\n",
              "      display:flex;\n",
              "      flex-wrap:wrap;\n",
              "      gap: 12px;\n",
              "    }\n",
              "\n",
              "    .colab-df-convert {\n",
              "      background-color: #E8F0FE;\n",
              "      border: none;\n",
              "      border-radius: 50%;\n",
              "      cursor: pointer;\n",
              "      display: none;\n",
              "      fill: #1967D2;\n",
              "      height: 32px;\n",
              "      padding: 0 0 0 0;\n",
              "      width: 32px;\n",
              "    }\n",
              "\n",
              "    .colab-df-convert:hover {\n",
              "      background-color: #E2EBFA;\n",
              "      box-shadow: 0px 1px 2px rgba(60, 64, 67, 0.3), 0px 1px 3px 1px rgba(60, 64, 67, 0.15);\n",
              "      fill: #174EA6;\n",
              "    }\n",
              "\n",
              "    [theme=dark] .colab-df-convert {\n",
              "      background-color: #3B4455;\n",
              "      fill: #D2E3FC;\n",
              "    }\n",
              "\n",
              "    [theme=dark] .colab-df-convert:hover {\n",
              "      background-color: #434B5C;\n",
              "      box-shadow: 0px 1px 3px 1px rgba(0, 0, 0, 0.15);\n",
              "      filter: drop-shadow(0px 1px 2px rgba(0, 0, 0, 0.3));\n",
              "      fill: #FFFFFF;\n",
              "    }\n",
              "  </style>\n",
              "\n",
              "      <script>\n",
              "        const buttonEl =\n",
              "          document.querySelector('#df-1cdf8cdd-8bb4-4ffb-aff3-cd5acbd135fa button.colab-df-convert');\n",
              "        buttonEl.style.display =\n",
              "          google.colab.kernel.accessAllowed ? 'block' : 'none';\n",
              "\n",
              "        async function convertToInteractive(key) {\n",
              "          const element = document.querySelector('#df-1cdf8cdd-8bb4-4ffb-aff3-cd5acbd135fa');\n",
              "          const dataTable =\n",
              "            await google.colab.kernel.invokeFunction('convertToInteractive',\n",
              "                                                     [key], {});\n",
              "          if (!dataTable) return;\n",
              "\n",
              "          const docLinkHtml = 'Like what you see? Visit the ' +\n",
              "            '<a target=\"_blank\" href=https://colab.research.google.com/notebooks/data_table.ipynb>data table notebook</a>'\n",
              "            + ' to learn more about interactive tables.';\n",
              "          element.innerHTML = '';\n",
              "          dataTable['output_type'] = 'display_data';\n",
              "          await google.colab.output.renderOutput(dataTable, element);\n",
              "          const docLink = document.createElement('div');\n",
              "          docLink.innerHTML = docLinkHtml;\n",
              "          element.appendChild(docLink);\n",
              "        }\n",
              "      </script>\n",
              "    </div>\n",
              "  </div>\n",
              "  "
            ]
          },
          "metadata": {},
          "execution_count": 81
        }
      ]
    },
    {
      "cell_type": "code",
      "source": [
        "from statsmodels.tools.eval_measures import rmse"
      ],
      "metadata": {
        "id": "lg_ijsXY4Z_D"
      },
      "execution_count": null,
      "outputs": []
    },
    {
      "cell_type": "code",
      "source": [
        "print('Mean Value of Predicted data ', pred.mean())\n",
        "print('Mean Value of Actual data ', test['#Passengers'].mean())\n",
        "rmse(pred,test)"
      ],
      "metadata": {
        "colab": {
          "base_uri": "https://localhost:8080/"
        },
        "id": "BVPGDAeH4p56",
        "outputId": "16bf4154-0d3d-4aed-edad-d74578730b70"
      },
      "execution_count": null,
      "outputs": [
        {
          "output_type": "stream",
          "name": "stdout",
          "text": [
            "Mean Value of Predicted data  0    385.966529\n",
            "dtype: float64\n",
            "Mean Value of Actual data  442.0\n"
          ]
        },
        {
          "output_type": "execute_result",
          "data": {
            "text/plain": [
              "array([93.2849789])"
            ]
          },
          "metadata": {},
          "execution_count": 32
        }
      ]
    },
    {
      "cell_type": "code",
      "source": [
        "plt.plot(train, label='Train')\n",
        "plt.plot(test, label='Valid')\n",
        "plt.plot(pred, label='Prediction')\n",
        "plt.show()"
      ],
      "metadata": {
        "colab": {
          "base_uri": "https://localhost:8080/",
          "height": 265
        },
        "id": "FmY28AGdB-9V",
        "outputId": "eb614dc3-fa24-49ab-fe5a-45c9df6dbe73"
      },
      "execution_count": null,
      "outputs": [
        {
          "output_type": "display_data",
          "data": {
            "text/plain": [
              "<Figure size 432x288 with 1 Axes>"
            ],
            "image/png": "[encoded data removed]"
          },
          "metadata": {
            "needs_background": "light"
          }
        }
      ]
    },
    {
      "cell_type": "code",
      "source": [
        ""
      ],
      "metadata": {
        "colab": {
          "base_uri": "https://localhost:8080/"
        },
        "id": "SHeUIVtM5d3C",
        "outputId": "88f3f9b0-80d5-40b6-a96e-610761149252"
      },
      "execution_count": null,
      "outputs": [
        {
          "output_type": "execute_result",
          "data": {
            "text/plain": [
              "(30, 1)"
            ]
          },
          "metadata": {},
          "execution_count": 34
        }
      ]
    },
    {
      "cell_type": "code",
      "source": [
        "from statsmodels.tsa.arima_model import ARIMA"
      ],
      "metadata": {
        "id": "awTTsBpdc4XB"
      },
      "execution_count": null,
      "outputs": []
    },
    {
      "cell_type": "code",
      "source": [
        "\n",
        "train,test=train_test_split(data,test_size=0.1,shuffle=False)\n",
        "\n",
        "test.info()\n",
        "test.head()\n",
        "train.head()"
      ],
      "metadata": {
        "colab": {
          "base_uri": "https://localhost:8080/",
          "height": 376
        },
        "id": "BbKY3VwldTuO",
        "outputId": "2e822cee-9db3-4e40-8776-6cf4789ec01f"
      },
      "execution_count": null,
      "outputs": [
        {
          "output_type": "stream",
          "name": "stdout",
          "text": [
            "<class 'pandas.core.frame.DataFrame'>\n",
            "DatetimeIndex: 15 entries, 1959-10-01 to 1960-12-01\n",
            "Data columns (total 1 columns):\n",
            " #   Column       Non-Null Count  Dtype\n",
            "---  ------       --------------  -----\n",
            " 0   #Passengers  15 non-null     int64\n",
            "dtypes: int64(1)\n",
            "memory usage: 240.0 bytes\n"
          ]
        },
        {
          "output_type": "execute_result",
          "data": {
            "text/plain": [
              "            #Passengers\n",
              "Month                  \n",
              "1949-01-01          112\n",
              "1949-02-01          118\n",
              "1949-03-01          132\n",
              "1949-04-01          129\n",
              "1949-05-01          121"
            ],
            "text/html": [
              "\n",
              "  <div id=\"df-31d07de7-4318-43bb-b6d6-617782d734c6\">\n",
              "    <div class=\"colab-df-container\">\n",
              "      <div>\n",
              "<style scoped>\n",
              "    .dataframe tbody tr th:only-of-type {\n",
              "        vertical-align: middle;\n",
              "    }\n",
              "\n",
              "    .dataframe tbody tr th {\n",
              "        vertical-align: top;\n",
              "    }\n",
              "\n",
              "    .dataframe thead th {\n",
              "        text-align: right;\n",
              "    }\n",
              "</style>\n",
              "<table border=\"1\" class=\"dataframe\">\n",
              "  <thead>\n",
              "    <tr style=\"text-align: right;\">\n",
              "      <th></th>\n",
              "      <th>#Passengers</th>\n",
              "    </tr>\n",
              "    <tr>\n",
              "      <th>Month</th>\n",
              "      <th></th>\n",
              "    </tr>\n",
              "  </thead>\n",
              "  <tbody>\n",
              "    <tr>\n",
              "      <th>1949-01-01</th>\n",
              "      <td>112</td>\n",
              "    </tr>\n",
              "    <tr>\n",
              "      <th>1949-02-01</th>\n",
              "      <td>118</td>\n",
              "    </tr>\n",
              "    <tr>\n",
              "      <th>1949-03-01</th>\n",
              "      <td>132</td>\n",
              "    </tr>\n",
              "    <tr>\n",
              "      <th>1949-04-01</th>\n",
              "      <td>129</td>\n",
              "    </tr>\n",
              "    <tr>\n",
              "      <th>1949-05-01</th>\n",
              "      <td>121</td>\n",
              "    </tr>\n",
              "  </tbody>\n",
              "</table>\n",
              "</div>\n",
              "      <button class=\"colab-df-convert\" onclick=\"convertToInteractive('df-31d07de7-4318-43bb-b6d6-617782d734c6')\"\n",
              "              title=\"Convert this dataframe to an interactive table.\"\n",
              "              style=\"display:none;\">\n",
              "        \n",
              "  <svg xmlns=\"http://www.w3.org/2000/svg\" height=\"24px\"viewBox=\"0 0 24 24\"\n",
              "       width=\"24px\">\n",
              "    <path d=\"M0 0h24v24H0V0z\" fill=\"none\"/>\n",
              "    <path d=\"M18.56 5.44l.94 2.06.94-2.06 2.06-.94-2.06-.94-.94-2.06-.94 2.06-2.06.94zm-11 1L8.5 8.5l.94-2.06 2.06-.94-2.06-.94L8.5 2.5l-.94 2.06-2.06.94zm10 10l.94 2.06.94-2.06 2.06-.94-2.06-.94-.94-2.06-.94 2.06-2.06.94z\"/><path d=\"M17.41 7.96l-1.37-1.37c-.4-.4-.92-.59-1.43-.59-.52 0-1.04.2-1.43.59L10.3 9.45l-7.72 7.72c-.78.78-.78 2.05 0 2.83L4 21.41c.39.39.9.59 1.41.59.51 0 1.02-.2 1.41-.59l7.78-7.78 2.81-2.81c.8-.78.8-2.07 0-2.86zM5.41 20L4 18.59l7.72-7.72 1.47 1.35L5.41 20z\"/>\n",
              "  </svg>\n",
              "      </button>\n",
              "      \n",
              "  <style>\n",
              "    .colab-df-container {\n",
              "      display:flex;\n",
              "      flex-wrap:wrap;\n",
              "      gap: 12px;\n",
              "    }\n",
              "\n",
              "    .colab-df-convert {\n",
              "      background-color: #E8F0FE;\n",
              "      border: none;\n",
              "      border-radius: 50%;\n",
              "      cursor: pointer;\n",
              "      display: none;\n",
              "      fill: #1967D2;\n",
              "      height: 32px;\n",
              "      padding: 0 0 0 0;\n",
              "      width: 32px;\n",
              "    }\n",
              "\n",
              "    .colab-df-convert:hover {\n",
              "      background-color: #E2EBFA;\n",
              "      box-shadow: 0px 1px 2px rgba(60, 64, 67, 0.3), 0px 1px 3px 1px rgba(60, 64, 67, 0.15);\n",
              "      fill: #174EA6;\n",
              "    }\n",
              "\n",
              "    [theme=dark] .colab-df-convert {\n",
              "      background-color: #3B4455;\n",
              "      fill: #D2E3FC;\n",
              "    }\n",
              "\n",
              "    [theme=dark] .colab-df-convert:hover {\n",
              "      background-color: #434B5C;\n",
              "      box-shadow: 0px 1px 3px 1px rgba(0, 0, 0, 0.15);\n",
              "      filter: drop-shadow(0px 1px 2px rgba(0, 0, 0, 0.3));\n",
              "      fill: #FFFFFF;\n",
              "    }\n",
              "  </style>\n",
              "\n",
              "      <script>\n",
              "        const buttonEl =\n",
              "          document.querySelector('#df-31d07de7-4318-43bb-b6d6-617782d734c6 button.colab-df-convert');\n",
              "        buttonEl.style.display =\n",
              "          google.colab.kernel.accessAllowed ? 'block' : 'none';\n",
              "\n",
              "        async function convertToInteractive(key) {\n",
              "          const element = document.querySelector('#df-31d07de7-4318-43bb-b6d6-617782d734c6');\n",
              "          const dataTable =\n",
              "            await google.colab.kernel.invokeFunction('convertToInteractive',\n",
              "                                                     [key], {});\n",
              "          if (!dataTable) return;\n",
              "\n",
              "          const docLinkHtml = 'Like what you see? Visit the ' +\n",
              "            '<a target=\"_blank\" href=https://colab.research.google.com/notebooks/data_table.ipynb>data table notebook</a>'\n",
              "            + ' to learn more about interactive tables.';\n",
              "          element.innerHTML = '';\n",
              "          dataTable['output_type'] = 'display_data';\n",
              "          await google.colab.output.renderOutput(dataTable, element);\n",
              "          const docLink = document.createElement('div');\n",
              "          docLink.innerHTML = docLinkHtml;\n",
              "          element.appendChild(docLink);\n",
              "        }\n",
              "      </script>\n",
              "    </div>\n",
              "  </div>\n",
              "  "
            ]
          },
          "metadata": {},
          "execution_count": 102
        }
      ]
    },
    {
      "cell_type": "code",
      "source": [
        "model=ARIMA(train,order=(1,2,1))\n",
        "model=model.fit()\n",
        "model.summary()"
      ],
      "metadata": {
        "colab": {
          "base_uri": "https://localhost:8080/",
          "height": 357
        },
        "id": "VoKp1cnvdtn9",
        "outputId": "d586bdab-fc5e-44b1-af42-489a7922d734"
      },
      "execution_count": null,
      "outputs": [
        {
          "output_type": "execute_result",
          "data": {
            "text/plain": [
              "<class 'statsmodels.iolib.summary.Summary'>\n",
              "\"\"\"\n",
              "                             ARIMA Model Results                              \n",
              "==============================================================================\n",
              "Dep. Variable:         D2.#Passengers   No. Observations:                  127\n",
              "Model:                 ARIMA(1, 2, 1)   Log Likelihood                -613.296\n",
              "Method:                       css-mle   S.D. of innovations             29.764\n",
              "Date:                Wed, 16 Mar 2022   AIC                           1234.591\n",
              "Time:                        04:56:44   BIC                           1245.968\n",
              "Sample:                    03-01-1949   HQIC                          1239.213\n",
              "                         - 09-01-1959                                         \n",
              "========================================================================================\n",
              "                           coef    std err          z      P>|z|      [0.025      0.975]\n",
              "----------------------------------------------------------------------------------------\n",
              "const                    0.0059      0.098      0.060      0.952      -0.186       0.198\n",
              "ar.L1.D2.#Passengers     0.2790      0.090      3.104      0.002       0.103       0.455\n",
              "ma.L1.D2.#Passengers    -1.0000      0.020    -50.954      0.000      -1.038      -0.962\n",
              "                                    Roots                                    \n",
              "=============================================================================\n",
              "                  Real          Imaginary           Modulus         Frequency\n",
              "-----------------------------------------------------------------------------\n",
              "AR.1            3.5843           +0.0000j            3.5843            0.0000\n",
              "MA.1            1.0000           +0.0000j            1.0000            0.0000\n",
              "-----------------------------------------------------------------------------\n",
              "\"\"\""
            ],
            "text/html": [
              "<table class=\"simpletable\">\n",
              "<caption>ARIMA Model Results</caption>\n",
              "<tr>\n",
              "  <th>Dep. Variable:</th>  <td>D2.#Passengers</td>  <th>  No. Observations:  </th>    <td>127</td>  \n",
              "</tr>\n",
              "<tr>\n",
              "  <th>Model:</th>          <td>ARIMA(1, 2, 1)</td>  <th>  Log Likelihood     </th> <td>-613.296</td>\n",
              "</tr>\n",
              "<tr>\n",
              "  <th>Method:</th>             <td>css-mle</td>     <th>  S.D. of innovations</th>  <td>29.764</td> \n",
              "</tr>\n",
              "<tr>\n",
              "  <th>Date:</th>          <td>Wed, 16 Mar 2022</td> <th>  AIC                </th> <td>1234.591</td>\n",
              "</tr>\n",
              "<tr>\n",
              "  <th>Time:</th>              <td>04:56:44</td>     <th>  BIC                </th> <td>1245.968</td>\n",
              "</tr>\n",
              "<tr>\n",
              "  <th>Sample:</th>           <td>03-01-1949</td>    <th>  HQIC               </th> <td>1239.213</td>\n",
              "</tr>\n",
              "<tr>\n",
              "  <th></th>                 <td>- 09-01-1959</td>   <th>                     </th>     <td> </td>   \n",
              "</tr>\n",
              "</table>\n",
              "<table class=\"simpletable\">\n",
              "<tr>\n",
              "            <td></td>              <th>coef</th>     <th>std err</th>      <th>z</th>      <th>P>|z|</th>  <th>[0.025</th>    <th>0.975]</th>  \n",
              "</tr>\n",
              "<tr>\n",
              "  <th>const</th>                <td>    0.0059</td> <td>    0.098</td> <td>    0.060</td> <td> 0.952</td> <td>   -0.186</td> <td>    0.198</td>\n",
              "</tr>\n",
              "<tr>\n",
              "  <th>ar.L1.D2.#Passengers</th> <td>    0.2790</td> <td>    0.090</td> <td>    3.104</td> <td> 0.002</td> <td>    0.103</td> <td>    0.455</td>\n",
              "</tr>\n",
              "<tr>\n",
              "  <th>ma.L1.D2.#Passengers</th> <td>   -1.0000</td> <td>    0.020</td> <td>  -50.954</td> <td> 0.000</td> <td>   -1.038</td> <td>   -0.962</td>\n",
              "</tr>\n",
              "</table>\n",
              "<table class=\"simpletable\">\n",
              "<caption>Roots</caption>\n",
              "<tr>\n",
              "    <td></td>   <th>            Real</th>  <th>         Imaginary</th> <th>         Modulus</th>  <th>        Frequency</th>\n",
              "</tr>\n",
              "<tr>\n",
              "  <th>AR.1</th> <td>           3.5843</td> <td>          +0.0000j</td> <td>           3.5843</td> <td>           0.0000</td>\n",
              "</tr>\n",
              "<tr>\n",
              "  <th>MA.1</th> <td>           1.0000</td> <td>          +0.0000j</td> <td>           1.0000</td> <td>           0.0000</td>\n",
              "</tr>\n",
              "</table>"
            ]
          },
          "metadata": {},
          "execution_count": 95
        }
      ]
    },
    {
      "cell_type": "code",
      "source": [
        "start=len(train)\n",
        "end=len(train)+len(test)-1\n",
        "pred=model.predict('1959-10-01', '1960-12-01')\n",
        "pred"
      ],
      "metadata": {
        "colab": {
          "base_uri": "https://localhost:8080/"
        },
        "id": "JpUCKFQIfGWs",
        "outputId": "80fbbbec-344a-42b8-c46c-129c26f664c2"
      },
      "execution_count": null,
      "outputs": [
        {
          "output_type": "execute_result",
          "data": {
            "text/plain": [
              "1959-10-01    72.050878\n",
              "1959-11-01    20.106202\n",
              "1959-12-01     5.613821\n",
              "1960-01-01     1.570498\n",
              "1960-02-01     0.442425\n",
              "1960-03-01     0.127696\n",
              "1960-04-01     0.039888\n",
              "1960-05-01     0.015390\n",
              "1960-06-01     0.008555\n",
              "1960-07-01     0.006648\n",
              "1960-08-01     0.006116\n",
              "1960-09-01     0.005968\n",
              "1960-10-01     0.005927\n",
              "1960-11-01     0.005915\n",
              "1960-12-01     0.005912\n",
              "Freq: MS, dtype: float64"
            ]
          },
          "metadata": {},
          "execution_count": 96
        }
      ]
    },
    {
      "cell_type": "code",
      "source": [
        "plt.plot(train, label='Train')\n",
        "plt.plot(test, label='Valid')\n",
        "plt.plot(pred, label='Prediction')\n",
        "plt.show()"
      ],
      "metadata": {
        "colab": {
          "base_uri": "https://localhost:8080/",
          "height": 265
        },
        "id": "TUuuY7dXCxTD",
        "outputId": "be9f0487-4d90-49cc-930c-2c98cf86a52f"
      },
      "execution_count": null,
      "outputs": [
        {
          "output_type": "display_data",
          "data": {
            "text/plain": [
              "<Figure size 432x288 with 1 Axes>"
            ],
            "image/png": "[encoded data removed]"
          },
          "metadata": {
            "needs_background": "light"
          }
        }
      ]
    },
    {
      "cell_type": "code",
      "source": [
        "import statsmodels.api as sm\n",
        "model=sm.tsa.statespace.SARIMAX(train,order=(4,2,1),seasonal_order=(4,2,1,12))\n",
        "results=model.fit()\n",
        "forecast=results.predict('1959-10-01', '1960-12-01')\n",
        "forecast.head()"
      ],
      "metadata": {
        "colab": {
          "base_uri": "https://localhost:8080/"
        },
        "id": "mJ5whib56hTV",
        "outputId": "bfb59320-a830-4a88-9f3f-b88c004c1bb7"
      },
      "execution_count": null,
      "outputs": [
        {
          "output_type": "execute_result",
          "data": {
            "text/plain": [
              "1959-10-01    411.894385\n",
              "1959-11-01    356.035919\n",
              "1959-12-01    389.127112\n",
              "1960-01-01    408.183612\n",
              "1960-02-01    386.805443\n",
              "Freq: MS, dtype: float64"
            ]
          },
          "metadata": {},
          "execution_count": 138
        }
      ]
    },
    {
      "cell_type": "code",
      "source": [
        "plt.plot(train, label='Train')\n",
        "plt.plot(test, label='Valid')\n",
        "plt.plot(forecast, label='Prediction')\n",
        "plt.show()"
      ],
      "metadata": {
        "colab": {
          "base_uri": "https://localhost:8080/",
          "height": 265
        },
        "id": "ugt9CPOog-1h",
        "outputId": "318b689c-7da3-4eac-93e9-7fe981b881fc"
      },
      "execution_count": null,
      "outputs": [
        {
          "output_type": "display_data",
          "data": {
            "text/plain": [
              "<Figure size 432x288 with 1 Axes>"
            ],
            "image/png": "[encoded data removed]"
          },
          "metadata": {
            "needs_background": "light"
          }
        }
      ]
    },
    {
      "cell_type": "code",
      "source": [
        "print('Mean Value of Predicted data ', test.mean())\n",
        "print('Mean Value of Actual data ', forecast.mean())\n",
        "rmse(test['#Passengers'],forecast)"
      ],
      "metadata": {
        "colab": {
          "base_uri": "https://localhost:8080/"
        },
        "id": "obzoXImDHOnj",
        "outputId": "d04ac3f2-b2d7-4f74-fb70-fa2ff91d2627"
      },
      "execution_count": null,
      "outputs": [
        {
          "output_type": "stream",
          "name": "stdout",
          "text": [
            "Mean Value of Predicted data  #Passengers    459.2\n",
            "dtype: float64\n",
            "Mean Value of Actual data  456.5526132643187\n"
          ]
        },
        {
          "output_type": "execute_result",
          "data": {
            "text/plain": [
              "12.840861712841024"
            ]
          },
          "metadata": {},
          "execution_count": 140
        }
      ]
    }
  ]
}